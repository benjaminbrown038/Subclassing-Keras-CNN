{
 "cells": [
  {
   "cell_type": "code",
   "execution_count": 1,
   "metadata": {},
   "outputs": [],
   "source": [
    "import tensorflow \n",
    "from tensorflow import keras"
   ]
  },
  {
   "cell_type": "code",
   "execution_count": 14,
   "metadata": {},
   "outputs": [],
   "source": [
    "class CNN(tensorflow.keras.Model):\n",
    "    def __init__(self,input_shape,output_shape,**kwargs):\n",
    "        super().__init__()\n",
    "        self.input_shape = input_shape\n",
    "        self.output_shape = output_shape\n",
    "        \n",
    "        self.conv1 = Conv2D(8,kernel_size=(3,3),padding='same',input_shape=self.input_shape,activation='relu')\n",
    "        self.maxpool1 = MaxPool2D(pool_size=(2,2))\n",
    "        self.conv2 = Conv2D(64,kernel_size=(3,3),padding='same', activation='relu')\n",
    "        self.maxpool2 = MaxPool2D(pool_size=(2,2))\n",
    "        self.conv3 = Conv2D(128,kernel_size=(3,3),padding='same')\n",
    "        self.maxpool3 = MaxPool2D(pool_size=(2,2))\n",
    "        self.dense = Dense(10)\n",
    "        \n",
    "        self.conv1.build( (None,)+input_shap)\n",
    "        \n",
    "    \n",
    "        "
   ]
  },
  {
   "cell_type": "code",
   "execution_count": null,
   "metadata": {},
   "outputs": [],
   "source": []
  }
 ],
 "metadata": {
  "kernelspec": {
   "display_name": "Python 3",
   "language": "python",
   "name": "python3"
  },
  "language_info": {
   "codemirror_mode": {
    "name": "ipython",
    "version": 3
   },
   "file_extension": ".py",
   "mimetype": "text/x-python",
   "name": "python",
   "nbconvert_exporter": "python",
   "pygments_lexer": "ipython3",
   "version": "3.6.8"
  }
 },
 "nbformat": 4,
 "nbformat_minor": 2
}
